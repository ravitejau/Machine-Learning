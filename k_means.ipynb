{
 "cells": [
  {
   "cell_type": "code",
   "execution_count": 1,
   "metadata": {},
   "outputs": [
    {
     "name": "stdout",
     "output_type": "stream",
     "text": [
      "(128, 13)\n"
     ]
    }
   ],
   "source": [
    "import pandas as pd\n",
    "import numpy as np\n",
    "from numpy import genfromtxt\n",
    "from matplotlib import pyplot\n",
    "from scipy.spatial import distance\n",
    "\n",
    "audio_data = genfromtxt('E:/ASU_CourseWork/Fall_2018/SML/Assignment/assignment_3/audioData.csv', delimiter=',')\n",
    "print(audio_data.shape)\n"
   ]
  },
  {
   "cell_type": "code",
   "execution_count": 2,
   "metadata": {},
   "outputs": [
    {
     "data": {
      "image/png": "[encoded data removed]",
      "text/plain": [
       "<Figure size 432x288 with 1 Axes>"
      ]
     },
     "metadata": {
      "needs_background": "light"
     },
     "output_type": "display_data"
    }
   ],
   "source": [
    "k_objvallist = []\n",
    "for k in range(2,11):\n",
    "    clusters_list = [audio_data[np.random.randint(0, 128)] for x in range(k)]\n",
    "    cluster_arr = np.asarray(clusters_list)\n",
    "    cluster_membership = np.zeros((128, k))\n",
    "\n",
    "    while(True):\n",
    "        cluster_membership = np.zeros((128, k))\n",
    "        euclidean_distance = distance.cdist(audio_data, cluster_arr)\n",
    "        indices = np.argmin(euclidean_distance, axis = 1)\n",
    "    \n",
    "        membership_counter = {}\n",
    "        \n",
    "        # get the cluster membership based on the euclidean distance\n",
    "        for row_index in range(euclidean_distance.shape[0]):\n",
    "            cluster_membership[row_index][indices[row_index]] = 1\n",
    "    \n",
    "        # updating the cluster centers\n",
    "        cluster_membership = cluster_membership.T\n",
    "        updated_clusters = np.dot(cluster_membership, audio_data)\n",
    "        members = cluster_membership.sum(axis=1)\n",
    "        for index in range(updated_clusters.shape[0]):\n",
    "            updated_clusters[index] = updated_clusters[index] / members[index]\n",
    "        \n",
    "#         Finding out the difference between the old cluster centre and updated cluster centre\n",
    "        diff_clusters = np.subtract(updated_clusters, cluster_arr)\n",
    "        check = np.where(diff_clusters.any() > 0 or diff_clusters.any() < 0)\n",
    "        if (check[0].size == 0):\n",
    "            break\n",
    "#         if (np.array_equal(updated_clusters, cluster_arr)):\n",
    "        cluster_arr = updated_clusters\n",
    "    \n",
    "    # computing the objective function value\n",
    "    k_objval = np.sum(distance.cdist(audio_data, cluster_arr).min(axis = 1))\n",
    "    k_objvallist.append(k_objval)\n",
    "    \n",
    "pyplot.plot([x for x in range(2,11)], k_objvallist)\n",
    "pyplot.show()"
   ]
  },
  {
   "cell_type": "code",
   "execution_count": null,
   "metadata": {},
   "outputs": [],
   "source": []
  }
 ],
 "metadata": {
  "kernelspec": {
   "display_name": "Python 3",
   "language": "python",
   "name": "python3"
  },
  "language_info": {
   "codemirror_mode": {
    "name": "ipython",
    "version": 3
   },
   "file_extension": ".py",
   "mimetype": "text/x-python",
   "name": "python",
   "nbconvert_exporter": "python",
   "pygments_lexer": "ipython3",
   "version": "3.7.0"
  }
 },
 "nbformat": 4,
 "nbformat_minor": 2
}
